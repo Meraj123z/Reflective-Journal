{
  "nbformat": 4,
  "nbformat_minor": 0,
  "metadata": {
    "colab": {
      "provenance": [],
      "authorship_tag": "ABX9TyPAiiZ1wKUxCJZIuQwabUek",
      "include_colab_link": true
    },
    "kernelspec": {
      "name": "python3",
      "display_name": "Python 3"
    },
    "language_info": {
      "name": "python"
    }
  },
  "cells": [
    {
      "cell_type": "markdown",
      "metadata": {
        "id": "view-in-github",
        "colab_type": "text"
      },
      "source": [
        "<a href=\"https://colab.research.google.com/github/Meraj123z/Reflective-Journal/blob/main/Not_a_wall_of_Text_(dmopc15c7p2).ipynb\" target=\"_parent\"><img src=\"https://colab.research.google.com/assets/colab-badge.svg\" alt=\"Open In Colab\"/></a>"
      ]
    },
    {
      "cell_type": "code",
      "execution_count": null,
      "metadata": {
        "id": "fO30M9FsBodl"
      },
      "outputs": [],
      "source": [
        "line = input()\n",
        "\n",
        "# The comment has been redacted as it contains a URL\n",
        "\n",
        "num_spaces = line.count(' ')\n",
        "num_words = num_spaces + 1\n",
        "print(num_words)\n"
      ]
    }
  ]
}