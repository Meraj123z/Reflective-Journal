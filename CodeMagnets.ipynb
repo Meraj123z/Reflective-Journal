{
  "nbformat": 4,
  "nbformat_minor": 0,
  "metadata": {
    "colab": {
      "provenance": [],
      "authorship_tag": "ABX9TyPmSae3uD8MIS5Xf6ixRlJ2",
      "include_colab_link": true
    },
    "kernelspec": {
      "name": "python3",
      "display_name": "Python 3"
    },
    "language_info": {
      "name": "python"
    }
  },
  "cells": [
    {
      "cell_type": "markdown",
      "metadata": {
        "id": "view-in-github",
        "colab_type": "text"
      },
      "source": [
        "<a href=\"https://colab.research.google.com/github/Meraj123z/Reflective-Journal/blob/main/CodeMagnets.ipynb\" target=\"_parent\"><img src=\"https://colab.research.google.com/assets/colab-badge.svg\" alt=\"Open In Colab\"/></a>"
      ]
    },
    {
      "cell_type": "code",
      "execution_count": null,
      "metadata": {
        "id": "rJjUOOT5qBGi"
      },
      "outputs": [],
      "source": []
    },
    {
      "cell_type": "markdown",
      "source": [
        "Crack three eggs into a bowl.\n",
        "\n",
        "Whip eggs until they are fully mixed.\n",
        "\n",
        "Heat sauté pan over medium heat.\n",
        "\n",
        "Transfer eggs to pan.\n",
        "\n",
        "While eggs aren’t fully cooked: continue cooking.\n",
        "\n",
        "If the customer ordered cheese: Add cheese on top.\n",
        "\n",
        "Stir eggs gently to ensure even cooking.\n",
        "\n",
        "Remove pan from heat once eggs are fully cooked.\n",
        "\n",
        "Transfer eggs to plate.\n",
        "\n",
        "Serve the omelet hot.\n"
      ],
      "metadata": {
        "id": "uOzi64KvqeJD"
      }
    }
  ]
}