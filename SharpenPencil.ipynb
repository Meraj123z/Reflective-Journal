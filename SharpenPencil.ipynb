{
  "nbformat": 4,
  "nbformat_minor": 0,
  "metadata": {
    "colab": {
      "provenance": [],
      "authorship_tag": "ABX9TyO2WCejW7zXnkmNfL2Jv2At",
      "include_colab_link": true
    },
    "kernelspec": {
      "name": "python3",
      "display_name": "Python 3"
    },
    "language_info": {
      "name": "python"
    }
  },
  "cells": [
    {
      "cell_type": "markdown",
      "metadata": {
        "id": "view-in-github",
        "colab_type": "text"
      },
      "source": [
        "<a href=\"https://colab.research.google.com/github/Meraj123z/Reflective-Journal/blob/main/SharpenPencil.ipynb\" target=\"_parent\"><img src=\"https://colab.research.google.com/assets/colab-badge.svg\" alt=\"Open In Colab\"/></a>"
      ]
    },
    {
      "cell_type": "code",
      "execution_count": null,
      "metadata": {
        "id": "X60mqjdAq7GJ"
      },
      "outputs": [],
      "source": []
    },
    {
      "cell_type": "markdown",
      "source": [
        "customers = ['Jimmy', 'Kim', 'John', 'Stacie']\n",
        "I think this line makes a list of names of customers.\n",
        "\n",
        "winner = random.choice(customers)\n",
        "I believe that this line picks a random winner from the customers list\n",
        "\n",
        "flavor = 'vanilla'\n",
        "This line is saying that the flavour of whatever it is, is vanilla.\n",
        "\n",
        "print('Congratulations ' + winner + ' you have won an ice cream sundae!')\n",
        "This line looks like it's printing out a message for when the random customer is selected from the above code\n",
        "\n",
        "prompt = 'Would you like a cherry on top? '\n",
        "This sets up a question asking if they want a cherry on top. It's stored in something called prompt.\n",
        "\n",
        "wants_cherry = input(prompt)\n",
        "Seems like this line shows the question from prompt to the user and gets their answer back. The answer is saved in wants_cherry.\n",
        "\n",
        "order = flavor + ' sundae '\n",
        "This line is making a new thing called order by adding 'sundae' to the flavor. So it should say 'vanilla sundae'.\n",
        "\n",
        "if (wants_cherry == 'yes'):\n",
        "This checks if the answer to the cherry question is 'yes'. If it is, something happens next.\n",
        "\n",
        "order = order + ' with a cherry on top'\n",
        "If the person said 'yes' to the cherry, this line adds ' with a cherry on top' to the order. So the order changes to 'vanilla sundae with a cherry on top'.\n",
        "\n",
        "print('One ' + order + ' for ' + winner + ' coming right up...')\n",
        "This prints another message saying the order (like 'vanilla sundae with a cherry on top') for the winner is being made."
      ],
      "metadata": {
        "id": "XnHuhrPrrRkV"
      }
    }
  ]
}